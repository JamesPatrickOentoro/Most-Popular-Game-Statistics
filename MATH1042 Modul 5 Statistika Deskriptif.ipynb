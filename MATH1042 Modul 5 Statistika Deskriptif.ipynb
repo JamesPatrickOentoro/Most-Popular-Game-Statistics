{
 "cells": [
  {
   "cell_type": "markdown",
   "id": "VE_apjo_8zVI",
   "metadata": {
    "id": "VE_apjo_8zVI"
   },
   "source": [
    "# MATH1042 Modul 5: Statistika Deskriptif\n",
    "\n",
    "Dalam lembar kerja ini, kita akan mengeksplorasi data income dan expense dari sekian keluarga (household/HH). Dengan menggunakan visualisasi dan statistika deskriptif, kita akan melihat hal apa yang hendak disampaikan oleh data-data tersebut."
   ]
  },
  {
   "cell_type": "code",
   "execution_count": 1,
   "id": "-qOQEI_7US0l",
   "metadata": {
    "colab": {
     "base_uri": "https://localhost:8080/",
     "height": 427
    },
    "executionInfo": {
     "elapsed": 1700,
     "status": "ok",
     "timestamp": 1647237221113,
     "user": {
      "displayName": "Yozef Giovanni Tjandra",
      "photoUrl": "https://lh3.googleusercontent.com/a/default-user=s64",
      "userId": "03277432154125538365"
     },
     "user_tz": -420
    },
    "id": "-qOQEI_7US0l",
    "outputId": "27d9fdc2-2716-4806-8f0d-46109632e4a1"
   },
   "outputs": [
    {
     "data": {
      "text/html": [
       "\n",
       "  <div id=\"df-9129c7a6-b7dd-40ca-b9d2-ed5f8507570b\">\n",
       "    <div class=\"colab-df-container\">\n",
       "      <div>\n",
       "<style scoped>\n",
       "    .dataframe tbody tr th:only-of-type {\n",
       "        vertical-align: middle;\n",
       "    }\n",
       "\n",
       "    .dataframe tbody tr th {\n",
       "        vertical-align: top;\n",
       "    }\n",
       "\n",
       "    .dataframe thead th {\n",
       "        text-align: right;\n",
       "    }\n",
       "</style>\n",
       "<table border=\"1\" class=\"dataframe\">\n",
       "  <thead>\n",
       "    <tr style=\"text-align: right;\">\n",
       "      <th></th>\n",
       "      <th>Mthly_HH_Income</th>\n",
       "      <th>Mthly_HH_Expense</th>\n",
       "      <th>No_of_Fly_Members</th>\n",
       "      <th>Emi_or_Rent_Amt</th>\n",
       "      <th>Annual_HH_Income</th>\n",
       "      <th>Highest_Qualified_Member</th>\n",
       "      <th>No_of_Earning_Members</th>\n",
       "    </tr>\n",
       "  </thead>\n",
       "  <tbody>\n",
       "    <tr>\n",
       "      <th>0</th>\n",
       "      <td>5000</td>\n",
       "      <td>8000</td>\n",
       "      <td>3</td>\n",
       "      <td>2000</td>\n",
       "      <td>64200</td>\n",
       "      <td>Under-Graduate</td>\n",
       "      <td>1</td>\n",
       "    </tr>\n",
       "    <tr>\n",
       "      <th>1</th>\n",
       "      <td>6000</td>\n",
       "      <td>7000</td>\n",
       "      <td>2</td>\n",
       "      <td>3000</td>\n",
       "      <td>79920</td>\n",
       "      <td>Illiterate</td>\n",
       "      <td>1</td>\n",
       "    </tr>\n",
       "    <tr>\n",
       "      <th>2</th>\n",
       "      <td>10000</td>\n",
       "      <td>4500</td>\n",
       "      <td>2</td>\n",
       "      <td>0</td>\n",
       "      <td>112800</td>\n",
       "      <td>Under-Graduate</td>\n",
       "      <td>1</td>\n",
       "    </tr>\n",
       "    <tr>\n",
       "      <th>3</th>\n",
       "      <td>10000</td>\n",
       "      <td>2000</td>\n",
       "      <td>1</td>\n",
       "      <td>0</td>\n",
       "      <td>97200</td>\n",
       "      <td>Illiterate</td>\n",
       "      <td>1</td>\n",
       "    </tr>\n",
       "    <tr>\n",
       "      <th>4</th>\n",
       "      <td>12500</td>\n",
       "      <td>12000</td>\n",
       "      <td>2</td>\n",
       "      <td>3000</td>\n",
       "      <td>147000</td>\n",
       "      <td>Graduate</td>\n",
       "      <td>1</td>\n",
       "    </tr>\n",
       "    <tr>\n",
       "      <th>5</th>\n",
       "      <td>14000</td>\n",
       "      <td>8000</td>\n",
       "      <td>2</td>\n",
       "      <td>0</td>\n",
       "      <td>196560</td>\n",
       "      <td>Graduate</td>\n",
       "      <td>1</td>\n",
       "    </tr>\n",
       "    <tr>\n",
       "      <th>6</th>\n",
       "      <td>15000</td>\n",
       "      <td>16000</td>\n",
       "      <td>3</td>\n",
       "      <td>35000</td>\n",
       "      <td>167400</td>\n",
       "      <td>Post-Graduate</td>\n",
       "      <td>1</td>\n",
       "    </tr>\n",
       "    <tr>\n",
       "      <th>7</th>\n",
       "      <td>18000</td>\n",
       "      <td>20000</td>\n",
       "      <td>5</td>\n",
       "      <td>8000</td>\n",
       "      <td>216000</td>\n",
       "      <td>Graduate</td>\n",
       "      <td>1</td>\n",
       "    </tr>\n",
       "    <tr>\n",
       "      <th>8</th>\n",
       "      <td>19000</td>\n",
       "      <td>9000</td>\n",
       "      <td>2</td>\n",
       "      <td>0</td>\n",
       "      <td>218880</td>\n",
       "      <td>Under-Graduate</td>\n",
       "      <td>1</td>\n",
       "    </tr>\n",
       "    <tr>\n",
       "      <th>9</th>\n",
       "      <td>20000</td>\n",
       "      <td>9000</td>\n",
       "      <td>4</td>\n",
       "      <td>0</td>\n",
       "      <td>220800</td>\n",
       "      <td>Under-Graduate</td>\n",
       "      <td>2</td>\n",
       "    </tr>\n",
       "  </tbody>\n",
       "</table>\n",
       "</div>\n",
       "      <button class=\"colab-df-convert\" onclick=\"convertToInteractive('df-9129c7a6-b7dd-40ca-b9d2-ed5f8507570b')\"\n",
       "              title=\"Convert this dataframe to an interactive table.\"\n",
       "              style=\"display:none;\">\n",
       "        \n",
       "  <svg xmlns=\"http://www.w3.org/2000/svg\" height=\"24px\"viewBox=\"0 0 24 24\"\n",
       "       width=\"24px\">\n",
       "    <path d=\"M0 0h24v24H0V0z\" fill=\"none\"/>\n",
       "    <path d=\"M18.56 5.44l.94 2.06.94-2.06 2.06-.94-2.06-.94-.94-2.06-.94 2.06-2.06.94zm-11 1L8.5 8.5l.94-2.06 2.06-.94-2.06-.94L8.5 2.5l-.94 2.06-2.06.94zm10 10l.94 2.06.94-2.06 2.06-.94-2.06-.94-.94-2.06-.94 2.06-2.06.94z\"/><path d=\"M17.41 7.96l-1.37-1.37c-.4-.4-.92-.59-1.43-.59-.52 0-1.04.2-1.43.59L10.3 9.45l-7.72 7.72c-.78.78-.78 2.05 0 2.83L4 21.41c.39.39.9.59 1.41.59.51 0 1.02-.2 1.41-.59l7.78-7.78 2.81-2.81c.8-.78.8-2.07 0-2.86zM5.41 20L4 18.59l7.72-7.72 1.47 1.35L5.41 20z\"/>\n",
       "  </svg>\n",
       "      </button>\n",
       "      \n",
       "  <style>\n",
       "    .colab-df-container {\n",
       "      display:flex;\n",
       "      flex-wrap:wrap;\n",
       "      gap: 12px;\n",
       "    }\n",
       "\n",
       "    .colab-df-convert {\n",
       "      background-color: #E8F0FE;\n",
       "      border: none;\n",
       "      border-radius: 50%;\n",
       "      cursor: pointer;\n",
       "      display: none;\n",
       "      fill: #1967D2;\n",
       "      height: 32px;\n",
       "      padding: 0 0 0 0;\n",
       "      width: 32px;\n",
       "    }\n",
       "\n",
       "    .colab-df-convert:hover {\n",
       "      background-color: #E2EBFA;\n",
       "      box-shadow: 0px 1px 2px rgba(60, 64, 67, 0.3), 0px 1px 3px 1px rgba(60, 64, 67, 0.15);\n",
       "      fill: #174EA6;\n",
       "    }\n",
       "\n",
       "    [theme=dark] .colab-df-convert {\n",
       "      background-color: #3B4455;\n",
       "      fill: #D2E3FC;\n",
       "    }\n",
       "\n",
       "    [theme=dark] .colab-df-convert:hover {\n",
       "      background-color: #434B5C;\n",
       "      box-shadow: 0px 1px 3px 1px rgba(0, 0, 0, 0.15);\n",
       "      filter: drop-shadow(0px 1px 2px rgba(0, 0, 0, 0.3));\n",
       "      fill: #FFFFFF;\n",
       "    }\n",
       "  </style>\n",
       "\n",
       "      <script>\n",
       "        const buttonEl =\n",
       "          document.querySelector('#df-9129c7a6-b7dd-40ca-b9d2-ed5f8507570b button.colab-df-convert');\n",
       "        buttonEl.style.display =\n",
       "          google.colab.kernel.accessAllowed ? 'block' : 'none';\n",
       "\n",
       "        async function convertToInteractive(key) {\n",
       "          const element = document.querySelector('#df-9129c7a6-b7dd-40ca-b9d2-ed5f8507570b');\n",
       "          const dataTable =\n",
       "            await google.colab.kernel.invokeFunction('convertToInteractive',\n",
       "                                                     [key], {});\n",
       "          if (!dataTable) return;\n",
       "\n",
       "          const docLinkHtml = 'Like what you see? Visit the ' +\n",
       "            '<a target=\"_blank\" href=https://colab.research.google.com/notebooks/data_table.ipynb>data table notebook</a>'\n",
       "            + ' to learn more about interactive tables.';\n",
       "          element.innerHTML = '';\n",
       "          dataTable['output_type'] = 'display_data';\n",
       "          await google.colab.output.renderOutput(dataTable, element);\n",
       "          const docLink = document.createElement('div');\n",
       "          docLink.innerHTML = docLinkHtml;\n",
       "          element.appendChild(docLink);\n",
       "        }\n",
       "      </script>\n",
       "    </div>\n",
       "  </div>\n",
       "  "
      ],
      "text/plain": [
       "   Mthly_HH_Income  Mthly_HH_Expense  No_of_Fly_Members  Emi_or_Rent_Amt  \\\n",
       "0             5000              8000                  3             2000   \n",
       "1             6000              7000                  2             3000   \n",
       "2            10000              4500                  2                0   \n",
       "3            10000              2000                  1                0   \n",
       "4            12500             12000                  2             3000   \n",
       "5            14000              8000                  2                0   \n",
       "6            15000             16000                  3            35000   \n",
       "7            18000             20000                  5             8000   \n",
       "8            19000              9000                  2                0   \n",
       "9            20000              9000                  4                0   \n",
       "\n",
       "   Annual_HH_Income Highest_Qualified_Member  No_of_Earning_Members  \n",
       "0             64200           Under-Graduate                      1  \n",
       "1             79920               Illiterate                      1  \n",
       "2            112800           Under-Graduate                      1  \n",
       "3             97200               Illiterate                      1  \n",
       "4            147000                 Graduate                      1  \n",
       "5            196560                 Graduate                      1  \n",
       "6            167400            Post-Graduate                      1  \n",
       "7            216000                 Graduate                      1  \n",
       "8            218880           Under-Graduate                      1  \n",
       "9            220800           Under-Graduate                      2  "
      ]
     },
     "metadata": {},
     "output_type": "display_data"
    }
   ],
   "source": [
    "import pandas as pd\n",
    "data = pd.read_csv('Inc_Exp_Data.csv')\n",
    "display(data.head(10))"
   ]
  },
  {
   "cell_type": "code",
   "execution_count": 3,
   "id": "BEF6o0F1_SdV",
   "metadata": {
    "colab": {
     "base_uri": "https://localhost:8080/"
    },
    "executionInfo": {
     "elapsed": 349,
     "status": "ok",
     "timestamp": 1647237238870,
     "user": {
      "displayName": "Yozef Giovanni Tjandra",
      "photoUrl": "https://lh3.googleusercontent.com/a/default-user=s64",
      "userId": "03277432154125538365"
     },
     "user_tz": -420
    },
    "id": "BEF6o0F1_SdV",
    "outputId": "dcdf2344-3354-4f8a-a06b-8c82914fc68e"
   },
   "outputs": [
    {
     "data": {
      "text/plain": [
       "(50, 7)"
      ]
     },
     "execution_count": 3,
     "metadata": {},
     "output_type": "execute_result"
    }
   ],
   "source": [
    "# Menampilkan ukuran DataFrame\n",
    "data.shape"
   ]
  },
  {
   "cell_type": "markdown",
   "id": "QE4jlO2Dc2s2",
   "metadata": {
    "id": "QE4jlO2Dc2s2"
   },
   "source": [
    "## Visualisasi Data Non-numerik/Numerik Diskrit\n",
    "\n",
    "Kita akan memvisualisasikan sebaran data ```\"Highest_Qualified_Member\"```."
   ]
  },
  {
   "cell_type": "code",
   "execution_count": null,
   "id": "EPxnC-UNd4jY",
   "metadata": {
    "colab": {
     "base_uri": "https://localhost:8080/",
     "height": 124
    },
    "executionInfo": {
     "elapsed": 11,
     "status": "ok",
     "timestamp": 1647169410265,
     "user": {
      "displayName": "Yozef Giovanni Tjandra",
      "photoUrl": "https://lh3.googleusercontent.com/a/default-user=s64",
      "userId": "03277432154125538365"
     },
     "user_tz": -420
    },
    "id": "EPxnC-UNd4jY",
    "outputId": "a9779bf1-fa50-4bbc-e171-1c54ec1061d6"
   },
   "outputs": [
    {
     "data": {
      "text/plain": [
       "Graduate          19\n",
       "Under-Graduate    10\n",
       "Professional      10\n",
       "Post-Graduate      6\n",
       "Illiterate         5\n",
       "Name: Highest_Qualified_Member, dtype: int64"
      ]
     },
     "metadata": {},
     "output_type": "display_data"
    }
   ],
   "source": [
    "# Menampilkan Frequency Table\n",
    "vis = data[\"Highest_Qualified_Member\"].value_counts()\n",
    "display(vis)"
   ]
  },
  {
   "cell_type": "code",
   "execution_count": null,
   "id": "UJoXpGa2fewK",
   "metadata": {
    "colab": {
     "base_uri": "https://localhost:8080/",
     "height": 373
    },
    "executionInfo": {
     "elapsed": 9,
     "status": "ok",
     "timestamp": 1647169410266,
     "user": {
      "displayName": "Yozef Giovanni Tjandra",
      "photoUrl": "https://lh3.googleusercontent.com/a/default-user=s64",
      "userId": "03277432154125538365"
     },
     "user_tz": -420
    },
    "id": "UJoXpGa2fewK",
    "outputId": "f9c3cb56-9046-4f85-cafb-a515d9899bb4"
   },
   "outputs": [
    {
     "data": {
      "image/png": "[encoded data removed]",
      "text/plain": [
       "<Figure size 576x432 with 1 Axes>"
      ]
     },
     "metadata": {},
     "output_type": "display_data"
    }
   ],
   "source": [
    "from matplotlib import pyplot as plt\n",
    "fig, ax = plt.subplots()\n",
    "\n",
    "# Menampilkan Diagram Lingkaran\n",
    "# Referensi: https://pandas.pydata.org/docs/reference/api/pandas.DataFrame.plot.pie.html\n",
    "\n",
    "vis.plot(ax=ax, kind='pie', autopct='%1.1f%%', title=\"Highest Qualified Member Distribution\", ylabel='')\n",
    "plt.show()"
   ]
  },
  {
   "cell_type": "code",
   "execution_count": null,
   "id": "6dWphbESfpM-",
   "metadata": {
    "colab": {
     "base_uri": "https://localhost:8080/",
     "height": 473
    },
    "executionInfo": {
     "elapsed": 580,
     "status": "ok",
     "timestamp": 1647169410838,
     "user": {
      "displayName": "Yozef Giovanni Tjandra",
      "photoUrl": "https://lh3.googleusercontent.com/a/default-user=s64",
      "userId": "03277432154125538365"
     },
     "user_tz": -420
    },
    "id": "6dWphbESfpM-",
    "outputId": "f4217f1d-2f5d-44a2-9bcb-1e9bc7565e19"
   },
   "outputs": [
    {
     "data": {
      "image/png": "[encoded data removed]",
      "text/plain": [
       "<Figure size 576x432 with 1 Axes>"
      ]
     },
     "metadata": {},
     "output_type": "display_data"
    }
   ],
   "source": [
    "# Menampilkan Diagram Batang\n",
    "# Referensi: https://www.tutorialspoint.com/frequency-plot-in-python-pandas-dataframe-using-matplotlib\n",
    "\n",
    "fig, ax = plt.subplots()\n",
    "vis.plot(ax=ax, kind='bar', xlabel=\"Highest Qualified Member\", ylabel=\"Frequency\")\n",
    "plt.show()"
   ]
  },
  {
   "cell_type": "markdown",
   "id": "_JRTpqE1jpaP",
   "metadata": {
    "id": "_JRTpqE1jpaP"
   },
   "source": [
    "### Highlights:\n",
    "\n",
    "* Kelompok mayoritas dalam kumpulan data tersebut adalah yang memiliki gelar akademik \"Graduate\", yaitu sebesar 38%.\n",
    "* Kelompok \"Post-Graduate\" dan \"Illiterate\" merupakan dua kelompok yang paling sedikit perwakilannya, secara berturut-turut mewakili 12% dan 10% dari keseluruhan data.\n",
    "* Dua kelompok lainnya memiliki keterwakilan yang sama-sama sebesar 20%, yaitu \"Professional\" dan \"Under-Graduate\"."
   ]
  },
  {
   "cell_type": "markdown",
   "id": "EZmNXz2zdwVl",
   "metadata": {
    "id": "EZmNXz2zdwVl"
   },
   "source": [
    "## Latihan 1\n",
    "\n",
    "1. Buatlah Tabel Frekuensi, Diagram Lingkaran, dan Diagram Batang untuk data field ```\"No_of_Fly_Members\"```.\n",
    "2. Tuliskan poin-poin highlights yang relevan untuk mendeskripsikan data tersebut."
   ]
  },
  {
   "cell_type": "markdown",
   "id": "Ck2YOlbmYKAL",
   "metadata": {
    "id": "Ck2YOlbmYKAL"
   },
   "source": [
    "## Visualisasi Data Numerik Kontinu\n",
    "\n",
    "Kita akan mencoba memvisualisasikan data ```\"Mthly_HH_Income\"```"
   ]
  },
  {
   "cell_type": "code",
   "execution_count": null,
   "id": "YRjpsvs3ifKZ",
   "metadata": {
    "colab": {
     "base_uri": "https://localhost:8080/",
     "height": 377
    },
    "executionInfo": {
     "elapsed": 13,
     "status": "ok",
     "timestamp": 1647169410839,
     "user": {
      "displayName": "Yozef Giovanni Tjandra",
      "photoUrl": "https://lh3.googleusercontent.com/a/default-user=s64",
      "userId": "03277432154125538365"
     },
     "user_tz": -420
    },
    "id": "YRjpsvs3ifKZ",
    "outputId": "2c4bf54d-3c96-4272-d660-ffb74f6002b9"
   },
   "outputs": [
    {
     "data": {
      "image/png": "[encoded data removed]",
      "text/plain": [
       "<Figure size 576x432 with 1 Axes>"
      ]
     },
     "metadata": {},
     "output_type": "display_data"
    }
   ],
   "source": [
    "from matplotlib import pyplot as plt\n",
    "fig, ax = plt.subplots()\n",
    "\n",
    "# Menampilkan Histogram\n",
    "# Referensi: https://pandas.pydata.org/docs/reference/api/pandas.DataFrame.hist.html\n",
    "\n",
    "data[\"Mthly_HH_Income\"].hist()\n",
    "plt.show()"
   ]
  },
  {
   "cell_type": "code",
   "execution_count": null,
   "id": "ie8w5ZJemvME",
   "metadata": {
    "colab": {
     "base_uri": "https://localhost:8080/",
     "height": 394
    },
    "executionInfo": {
     "elapsed": 528,
     "status": "ok",
     "timestamp": 1647169411356,
     "user": {
      "displayName": "Yozef Giovanni Tjandra",
      "photoUrl": "https://lh3.googleusercontent.com/a/default-user=s64",
      "userId": "03277432154125538365"
     },
     "user_tz": -420
    },
    "id": "ie8w5ZJemvME",
    "outputId": "d518e70b-a984-48ff-ec67-0b2279e0ad7f"
   },
   "outputs": [
    {
     "data": {
      "image/png": "[encoded data removed]",
      "text/plain": [
       "<Figure size 576x432 with 1 Axes>"
      ]
     },
     "metadata": {},
     "output_type": "display_data"
    }
   ],
   "source": [
    "# Alternatif lain menggunakan Seaborn\n",
    "# Referensi: https://www.sharpsightlabs.com/blog/seaborn-histogram/ \n",
    "import seaborn as sns\n",
    "\n",
    "_=sns.histplot(data=data, x='Mthly_HH_Income')"
   ]
  },
  {
   "cell_type": "code",
   "execution_count": null,
   "id": "6QcvRiLSnHI3",
   "metadata": {
    "colab": {
     "base_uri": "https://localhost:8080/",
     "height": 394
    },
    "executionInfo": {
     "elapsed": 512,
     "status": "ok",
     "timestamp": 1647169411866,
     "user": {
      "displayName": "Yozef Giovanni Tjandra",
      "photoUrl": "https://lh3.googleusercontent.com/a/default-user=s64",
      "userId": "03277432154125538365"
     },
     "user_tz": -420
    },
    "id": "6QcvRiLSnHI3",
    "outputId": "230dda6f-12fb-417b-d2a4-dcca134292d5"
   },
   "outputs": [
    {
     "data": {
      "image/png": "[encoded data removed]",
      "text/plain": [
       "<Figure size 576x432 with 1 Axes>"
      ]
     },
     "metadata": {},
     "output_type": "display_data"
    }
   ],
   "source": [
    "# Memodifikasi banyaknya bins\n",
    "\n",
    "_=sns.histplot(data=data, x='Mthly_HH_Income', bins = 4)\n",
    "# perintah ini meminta sns untuk membuat histogram dengan 4 buah bin"
   ]
  },
  {
   "cell_type": "code",
   "execution_count": null,
   "id": "Y7zZAtD_ny3K",
   "metadata": {
    "colab": {
     "base_uri": "https://localhost:8080/",
     "height": 394
    },
    "executionInfo": {
     "elapsed": 593,
     "status": "ok",
     "timestamp": 1647169412450,
     "user": {
      "displayName": "Yozef Giovanni Tjandra",
      "photoUrl": "https://lh3.googleusercontent.com/a/default-user=s64",
      "userId": "03277432154125538365"
     },
     "user_tz": -420
    },
    "id": "Y7zZAtD_ny3K",
    "outputId": "410a0e7b-9ba4-45f7-95bd-a22ef0ee0868"
   },
   "outputs": [
    {
     "data": {
      "image/png": "[encoded data removed]",
      "text/plain": [
       "<Figure size 576x432 with 1 Axes>"
      ]
     },
     "metadata": {},
     "output_type": "display_data"
    }
   ],
   "source": [
    "# Memodifikasi ukuran bins\n",
    "\n",
    "bin_size = 5000\n",
    "min_val = data[\"Mthly_HH_Income\"].min()\n",
    "max_val = data[\"Mthly_HH_Income\"].max()\n",
    "\n",
    "_=sns.histplot(data=data, x='Mthly_HH_Income', bins = range(min_val, max_val+bin_size, bin_size))\n",
    "# perintah ini meminta sns untuk membuat histogram dengan bin berukuran 5000"
   ]
  },
  {
   "cell_type": "code",
   "execution_count": null,
   "id": "jIS2QIohos7E",
   "metadata": {
    "colab": {
     "base_uri": "https://localhost:8080/",
     "height": 377
    },
    "executionInfo": {
     "elapsed": 15,
     "status": "ok",
     "timestamp": 1647169412451,
     "user": {
      "displayName": "Yozef Giovanni Tjandra",
      "photoUrl": "https://lh3.googleusercontent.com/a/default-user=s64",
      "userId": "03277432154125538365"
     },
     "user_tz": -420
    },
    "id": "jIS2QIohos7E",
    "outputId": "64680cad-888b-4e7d-f007-7d36620522d0"
   },
   "outputs": [
    {
     "data": {
      "image/png": "[encoded data removed]",
      "text/plain": [
       "<Figure size 576x432 with 1 Axes>"
      ]
     },
     "metadata": {},
     "output_type": "display_data"
    }
   ],
   "source": [
    "from matplotlib import pyplot as plt\n",
    "fig, ax = plt.subplots()\n",
    "\n",
    "# Menampilkan Box Plot\n",
    "# Referensi: https://pandas.pydata.org/docs/reference/api/pandas.DataFrame.hist.html\n",
    "\n",
    "data.boxplot(column = \"Mthly_HH_Income\")\n",
    "plt.show()"
   ]
  },
  {
   "cell_type": "code",
   "execution_count": null,
   "id": "KlU1r4n8pwsa",
   "metadata": {
    "colab": {
     "base_uri": "https://localhost:8080/",
     "height": 357
    },
    "executionInfo": {
     "elapsed": 14,
     "status": "ok",
     "timestamp": 1647169412451,
     "user": {
      "displayName": "Yozef Giovanni Tjandra",
      "photoUrl": "https://lh3.googleusercontent.com/a/default-user=s64",
      "userId": "03277432154125538365"
     },
     "user_tz": -420
    },
    "id": "KlU1r4n8pwsa",
    "outputId": "d15f0765-3142-4f52-d97f-41bc55557892"
   },
   "outputs": [
    {
     "data": {
      "image/png": "[encoded data removed]",
      "text/plain": [
       "<Figure size 576x432 with 1 Axes>"
      ]
     },
     "metadata": {},
     "output_type": "display_data"
    }
   ],
   "source": [
    "sns.set_style(\"whitegrid\")\n",
    "_=sns.boxplot(data = data, y = 'Mthly_HH_Income')"
   ]
  },
  {
   "cell_type": "markdown",
   "id": "ufD_IrizqDq7",
   "metadata": {
    "id": "ufD_IrizqDq7"
   },
   "source": [
    "### Highlights:\n",
    "\n",
    "Terkait data ```\"Mthly_HH_Income\"```,\n",
    "* Sebagian besar data berkisar pada rentang 20.000 s.d. 40.000.\n",
    "* Meskipun secara umum lebih banyak data yang cenderung bernilai kecil dibanding yang bernilai besar, terdapat kelompok data bernilai besar pada rentang di atas 90.000 yang memiliki proporsi lebih besar dari rentang nilai pada kelas interval sebelumnya.\n",
    "* Terdapat beberapa nilai data pencilan yang nilainya sangat besar dibandingkan data-data lain pada umumnya.\n"
   ]
  },
  {
   "cell_type": "markdown",
   "id": "wu8sHukqoef4",
   "metadata": {
    "id": "wu8sHukqoef4"
   },
   "source": [
    "## Latihan 2\n",
    "* Buatlah Histogram dan Boxplot untuk data field ```\"Mthly_HH_Expense\"```.\n",
    "* Tuliskan poin-poin highlights yang relevan untuk mendeskripsikan data tersebut."
   ]
  },
  {
   "cell_type": "markdown",
   "id": "Ze9l4QfSUlWy",
   "metadata": {
    "id": "Ze9l4QfSUlWy"
   },
   "source": [
    "## Statistika Deskriptif"
   ]
  },
  {
   "cell_type": "code",
   "execution_count": null,
   "id": "RwPvS3TsUkLL",
   "metadata": {
    "colab": {
     "base_uri": "https://localhost:8080/",
     "height": 344
    },
    "executionInfo": {
     "elapsed": 14,
     "status": "ok",
     "timestamp": 1647169412452,
     "user": {
      "displayName": "Yozef Giovanni Tjandra",
      "photoUrl": "https://lh3.googleusercontent.com/a/default-user=s64",
      "userId": "03277432154125538365"
     },
     "user_tz": -420
    },
    "id": "RwPvS3TsUkLL",
    "outputId": "c01bc862-de00-41c9-8508-238a88130ca9"
   },
   "outputs": [
    {
     "data": {
      "text/html": [
       "\n",
       "  <div id=\"df-cb5a56ea-c3d4-4f5a-91ec-6764a5661dc6\">\n",
       "    <div class=\"colab-df-container\">\n",
       "      <div>\n",
       "<style scoped>\n",
       "    .dataframe tbody tr th:only-of-type {\n",
       "        vertical-align: middle;\n",
       "    }\n",
       "\n",
       "    .dataframe tbody tr th {\n",
       "        vertical-align: top;\n",
       "    }\n",
       "\n",
       "    .dataframe thead th {\n",
       "        text-align: right;\n",
       "    }\n",
       "</style>\n",
       "<table border=\"1\" class=\"dataframe\">\n",
       "  <thead>\n",
       "    <tr style=\"text-align: right;\">\n",
       "      <th></th>\n",
       "      <th>Mthly_HH_Income</th>\n",
       "      <th>Mthly_HH_Expense</th>\n",
       "      <th>No_of_Fly_Members</th>\n",
       "      <th>Emi_or_Rent_Amt</th>\n",
       "      <th>Annual_HH_Income</th>\n",
       "      <th>No_of_Earning_Members</th>\n",
       "    </tr>\n",
       "  </thead>\n",
       "  <tbody>\n",
       "    <tr>\n",
       "      <th>count</th>\n",
       "      <td>50.000000</td>\n",
       "      <td>50.000000</td>\n",
       "      <td>50.000000</td>\n",
       "      <td>50.000000</td>\n",
       "      <td>5.000000e+01</td>\n",
       "      <td>50.000000</td>\n",
       "    </tr>\n",
       "    <tr>\n",
       "      <th>mean</th>\n",
       "      <td>41558.000000</td>\n",
       "      <td>18818.000000</td>\n",
       "      <td>4.060000</td>\n",
       "      <td>3060.000000</td>\n",
       "      <td>4.900190e+05</td>\n",
       "      <td>1.460000</td>\n",
       "    </tr>\n",
       "    <tr>\n",
       "      <th>std</th>\n",
       "      <td>26097.908979</td>\n",
       "      <td>12090.216824</td>\n",
       "      <td>1.517382</td>\n",
       "      <td>6241.434948</td>\n",
       "      <td>3.201358e+05</td>\n",
       "      <td>0.734291</td>\n",
       "    </tr>\n",
       "    <tr>\n",
       "      <th>min</th>\n",
       "      <td>5000.000000</td>\n",
       "      <td>2000.000000</td>\n",
       "      <td>1.000000</td>\n",
       "      <td>0.000000</td>\n",
       "      <td>6.420000e+04</td>\n",
       "      <td>1.000000</td>\n",
       "    </tr>\n",
       "    <tr>\n",
       "      <th>25%</th>\n",
       "      <td>23550.000000</td>\n",
       "      <td>10000.000000</td>\n",
       "      <td>3.000000</td>\n",
       "      <td>0.000000</td>\n",
       "      <td>2.587500e+05</td>\n",
       "      <td>1.000000</td>\n",
       "    </tr>\n",
       "    <tr>\n",
       "      <th>50%</th>\n",
       "      <td>35000.000000</td>\n",
       "      <td>15500.000000</td>\n",
       "      <td>4.000000</td>\n",
       "      <td>0.000000</td>\n",
       "      <td>4.474200e+05</td>\n",
       "      <td>1.000000</td>\n",
       "    </tr>\n",
       "    <tr>\n",
       "      <th>75%</th>\n",
       "      <td>50375.000000</td>\n",
       "      <td>25000.000000</td>\n",
       "      <td>5.000000</td>\n",
       "      <td>3500.000000</td>\n",
       "      <td>5.947200e+05</td>\n",
       "      <td>2.000000</td>\n",
       "    </tr>\n",
       "    <tr>\n",
       "      <th>max</th>\n",
       "      <td>100000.000000</td>\n",
       "      <td>50000.000000</td>\n",
       "      <td>7.000000</td>\n",
       "      <td>35000.000000</td>\n",
       "      <td>1.404000e+06</td>\n",
       "      <td>4.000000</td>\n",
       "    </tr>\n",
       "  </tbody>\n",
       "</table>\n",
       "</div>\n",
       "      <button class=\"colab-df-convert\" onclick=\"convertToInteractive('df-cb5a56ea-c3d4-4f5a-91ec-6764a5661dc6')\"\n",
       "              title=\"Convert this dataframe to an interactive table.\"\n",
       "              style=\"display:none;\">\n",
       "        \n",
       "  <svg xmlns=\"http://www.w3.org/2000/svg\" height=\"24px\"viewBox=\"0 0 24 24\"\n",
       "       width=\"24px\">\n",
       "    <path d=\"M0 0h24v24H0V0z\" fill=\"none\"/>\n",
       "    <path d=\"M18.56 5.44l.94 2.06.94-2.06 2.06-.94-2.06-.94-.94-2.06-.94 2.06-2.06.94zm-11 1L8.5 8.5l.94-2.06 2.06-.94-2.06-.94L8.5 2.5l-.94 2.06-2.06.94zm10 10l.94 2.06.94-2.06 2.06-.94-2.06-.94-.94-2.06-.94 2.06-2.06.94z\"/><path d=\"M17.41 7.96l-1.37-1.37c-.4-.4-.92-.59-1.43-.59-.52 0-1.04.2-1.43.59L10.3 9.45l-7.72 7.72c-.78.78-.78 2.05 0 2.83L4 21.41c.39.39.9.59 1.41.59.51 0 1.02-.2 1.41-.59l7.78-7.78 2.81-2.81c.8-.78.8-2.07 0-2.86zM5.41 20L4 18.59l7.72-7.72 1.47 1.35L5.41 20z\"/>\n",
       "  </svg>\n",
       "      </button>\n",
       "      \n",
       "  <style>\n",
       "    .colab-df-container {\n",
       "      display:flex;\n",
       "      flex-wrap:wrap;\n",
       "      gap: 12px;\n",
       "    }\n",
       "\n",
       "    .colab-df-convert {\n",
       "      background-color: #E8F0FE;\n",
       "      border: none;\n",
       "      border-radius: 50%;\n",
       "      cursor: pointer;\n",
       "      display: none;\n",
       "      fill: #1967D2;\n",
       "      height: 32px;\n",
       "      padding: 0 0 0 0;\n",
       "      width: 32px;\n",
       "    }\n",
       "\n",
       "    .colab-df-convert:hover {\n",
       "      background-color: #E2EBFA;\n",
       "      box-shadow: 0px 1px 2px rgba(60, 64, 67, 0.3), 0px 1px 3px 1px rgba(60, 64, 67, 0.15);\n",
       "      fill: #174EA6;\n",
       "    }\n",
       "\n",
       "    [theme=dark] .colab-df-convert {\n",
       "      background-color: #3B4455;\n",
       "      fill: #D2E3FC;\n",
       "    }\n",
       "\n",
       "    [theme=dark] .colab-df-convert:hover {\n",
       "      background-color: #434B5C;\n",
       "      box-shadow: 0px 1px 3px 1px rgba(0, 0, 0, 0.15);\n",
       "      filter: drop-shadow(0px 1px 2px rgba(0, 0, 0, 0.3));\n",
       "      fill: #FFFFFF;\n",
       "    }\n",
       "  </style>\n",
       "\n",
       "      <script>\n",
       "        const buttonEl =\n",
       "          document.querySelector('#df-cb5a56ea-c3d4-4f5a-91ec-6764a5661dc6 button.colab-df-convert');\n",
       "        buttonEl.style.display =\n",
       "          google.colab.kernel.accessAllowed ? 'block' : 'none';\n",
       "\n",
       "        async function convertToInteractive(key) {\n",
       "          const element = document.querySelector('#df-cb5a56ea-c3d4-4f5a-91ec-6764a5661dc6');\n",
       "          const dataTable =\n",
       "            await google.colab.kernel.invokeFunction('convertToInteractive',\n",
       "                                                     [key], {});\n",
       "          if (!dataTable) return;\n",
       "\n",
       "          const docLinkHtml = 'Like what you see? Visit the ' +\n",
       "            '<a target=\"_blank\" href=https://colab.research.google.com/notebooks/data_table.ipynb>data table notebook</a>'\n",
       "            + ' to learn more about interactive tables.';\n",
       "          element.innerHTML = '';\n",
       "          dataTable['output_type'] = 'display_data';\n",
       "          await google.colab.output.renderOutput(dataTable, element);\n",
       "          const docLink = document.createElement('div');\n",
       "          docLink.innerHTML = docLinkHtml;\n",
       "          element.appendChild(docLink);\n",
       "        }\n",
       "      </script>\n",
       "    </div>\n",
       "  </div>\n",
       "  "
      ],
      "text/plain": [
       "       Mthly_HH_Income  Mthly_HH_Expense  No_of_Fly_Members  Emi_or_Rent_Amt  \\\n",
       "count        50.000000         50.000000          50.000000        50.000000   \n",
       "mean      41558.000000      18818.000000           4.060000      3060.000000   \n",
       "std       26097.908979      12090.216824           1.517382      6241.434948   \n",
       "min        5000.000000       2000.000000           1.000000         0.000000   \n",
       "25%       23550.000000      10000.000000           3.000000         0.000000   \n",
       "50%       35000.000000      15500.000000           4.000000         0.000000   \n",
       "75%       50375.000000      25000.000000           5.000000      3500.000000   \n",
       "max      100000.000000      50000.000000           7.000000     35000.000000   \n",
       "\n",
       "       Annual_HH_Income  No_of_Earning_Members  \n",
       "count      5.000000e+01              50.000000  \n",
       "mean       4.900190e+05               1.460000  \n",
       "std        3.201358e+05               0.734291  \n",
       "min        6.420000e+04               1.000000  \n",
       "25%        2.587500e+05               1.000000  \n",
       "50%        4.474200e+05               1.000000  \n",
       "75%        5.947200e+05               2.000000  \n",
       "max        1.404000e+06               4.000000  "
      ]
     },
     "metadata": {},
     "output_type": "display_data"
    }
   ],
   "source": [
    "# perintah berikut memberikan statistik untuk semua data numerik dari sebuah DataFrame\n",
    "summary = data.describe()\n",
    "display(summary)"
   ]
  },
  {
   "cell_type": "markdown",
   "id": "un06-jeZsP-8",
   "metadata": {
    "id": "un06-jeZsP-8"
   },
   "source": [
    "### Melihat kaitan antara fitur data\n",
    "\n",
    "Kita akan melihat kaitan antara nilai numerik variabel ```\"Mthly_HH_Income\"``` dan nilai categorical dari variabel ```\"Highest_Qualified_Member\"```."
   ]
  },
  {
   "cell_type": "code",
   "execution_count": null,
   "id": "EHorPlz-dRnW",
   "metadata": {
    "colab": {
     "base_uri": "https://localhost:8080/",
     "height": 362
    },
    "executionInfo": {
     "elapsed": 664,
     "status": "ok",
     "timestamp": 1647169413104,
     "user": {
      "displayName": "Yozef Giovanni Tjandra",
      "photoUrl": "https://lh3.googleusercontent.com/a/default-user=s64",
      "userId": "03277432154125538365"
     },
     "user_tz": -420
    },
    "id": "EHorPlz-dRnW",
    "outputId": "7a6f956d-ccc4-493b-e03a-c9f2b22f8403"
   },
   "outputs": [
    {
     "data": {
      "text/html": [
       "\n",
       "  <div id=\"df-99f08857-56ab-46c3-8a52-ee2bf7ab4c92\">\n",
       "    <div class=\"colab-df-container\">\n",
       "      <div>\n",
       "<style scoped>\n",
       "    .dataframe tbody tr th:only-of-type {\n",
       "        vertical-align: middle;\n",
       "    }\n",
       "\n",
       "    .dataframe tbody tr th {\n",
       "        vertical-align: top;\n",
       "    }\n",
       "\n",
       "    .dataframe thead tr th {\n",
       "        text-align: left;\n",
       "    }\n",
       "\n",
       "    .dataframe thead tr:last-of-type th {\n",
       "        text-align: right;\n",
       "    }\n",
       "</style>\n",
       "<table border=\"1\" class=\"dataframe\">\n",
       "  <thead>\n",
       "    <tr>\n",
       "      <th></th>\n",
       "      <th colspan=\"8\" halign=\"left\">Mthly_HH_Income</th>\n",
       "      <th colspan=\"2\" halign=\"left\">Mthly_HH_Expense</th>\n",
       "      <th>...</th>\n",
       "      <th colspan=\"2\" halign=\"left\">Annual_HH_Income</th>\n",
       "      <th colspan=\"8\" halign=\"left\">No_of_Earning_Members</th>\n",
       "    </tr>\n",
       "    <tr>\n",
       "      <th></th>\n",
       "      <th>count</th>\n",
       "      <th>mean</th>\n",
       "      <th>std</th>\n",
       "      <th>min</th>\n",
       "      <th>25%</th>\n",
       "      <th>50%</th>\n",
       "      <th>75%</th>\n",
       "      <th>max</th>\n",
       "      <th>count</th>\n",
       "      <th>mean</th>\n",
       "      <th>...</th>\n",
       "      <th>75%</th>\n",
       "      <th>max</th>\n",
       "      <th>count</th>\n",
       "      <th>mean</th>\n",
       "      <th>std</th>\n",
       "      <th>min</th>\n",
       "      <th>25%</th>\n",
       "      <th>50%</th>\n",
       "      <th>75%</th>\n",
       "      <th>max</th>\n",
       "    </tr>\n",
       "    <tr>\n",
       "      <th>Highest_Qualified_Member</th>\n",
       "      <th></th>\n",
       "      <th></th>\n",
       "      <th></th>\n",
       "      <th></th>\n",
       "      <th></th>\n",
       "      <th></th>\n",
       "      <th></th>\n",
       "      <th></th>\n",
       "      <th></th>\n",
       "      <th></th>\n",
       "      <th></th>\n",
       "      <th></th>\n",
       "      <th></th>\n",
       "      <th></th>\n",
       "      <th></th>\n",
       "      <th></th>\n",
       "      <th></th>\n",
       "      <th></th>\n",
       "      <th></th>\n",
       "      <th></th>\n",
       "      <th></th>\n",
       "    </tr>\n",
       "  </thead>\n",
       "  <tbody>\n",
       "    <tr>\n",
       "      <th>Graduate</th>\n",
       "      <td>19.0</td>\n",
       "      <td>40921.052632</td>\n",
       "      <td>23460.524266</td>\n",
       "      <td>12500.0</td>\n",
       "      <td>24500.0</td>\n",
       "      <td>35000.0</td>\n",
       "      <td>50500.0</td>\n",
       "      <td>100000.0</td>\n",
       "      <td>19.0</td>\n",
       "      <td>18705.263158</td>\n",
       "      <td>...</td>\n",
       "      <td>598380.0</td>\n",
       "      <td>1404000.0</td>\n",
       "      <td>19.0</td>\n",
       "      <td>1.368421</td>\n",
       "      <td>0.683986</td>\n",
       "      <td>1.0</td>\n",
       "      <td>1.0</td>\n",
       "      <td>1.0</td>\n",
       "      <td>1.5</td>\n",
       "      <td>3.0</td>\n",
       "    </tr>\n",
       "    <tr>\n",
       "      <th>Illiterate</th>\n",
       "      <td>5.0</td>\n",
       "      <td>25280.000000</td>\n",
       "      <td>23436.979328</td>\n",
       "      <td>6000.0</td>\n",
       "      <td>10000.0</td>\n",
       "      <td>22000.0</td>\n",
       "      <td>23400.0</td>\n",
       "      <td>65000.0</td>\n",
       "      <td>5.0</td>\n",
       "      <td>11800.000000</td>\n",
       "      <td>...</td>\n",
       "      <td>292032.0</td>\n",
       "      <td>647400.0</td>\n",
       "      <td>5.0</td>\n",
       "      <td>1.200000</td>\n",
       "      <td>0.447214</td>\n",
       "      <td>1.0</td>\n",
       "      <td>1.0</td>\n",
       "      <td>1.0</td>\n",
       "      <td>1.0</td>\n",
       "      <td>2.0</td>\n",
       "    </tr>\n",
       "    <tr>\n",
       "      <th>Post-Graduate</th>\n",
       "      <td>6.0</td>\n",
       "      <td>59166.666667</td>\n",
       "      <td>31530.408603</td>\n",
       "      <td>15000.0</td>\n",
       "      <td>45000.0</td>\n",
       "      <td>52500.0</td>\n",
       "      <td>82500.0</td>\n",
       "      <td>100000.0</td>\n",
       "      <td>6.0</td>\n",
       "      <td>24333.333333</td>\n",
       "      <td>...</td>\n",
       "      <td>816750.0</td>\n",
       "      <td>1320000.0</td>\n",
       "      <td>6.0</td>\n",
       "      <td>1.333333</td>\n",
       "      <td>0.816497</td>\n",
       "      <td>1.0</td>\n",
       "      <td>1.0</td>\n",
       "      <td>1.0</td>\n",
       "      <td>1.0</td>\n",
       "      <td>3.0</td>\n",
       "    </tr>\n",
       "    <tr>\n",
       "      <th>Professional</th>\n",
       "      <td>10.0</td>\n",
       "      <td>52550.000000</td>\n",
       "      <td>25460.699563</td>\n",
       "      <td>32000.0</td>\n",
       "      <td>34250.0</td>\n",
       "      <td>46000.0</td>\n",
       "      <td>50375.0</td>\n",
       "      <td>100000.0</td>\n",
       "      <td>10.0</td>\n",
       "      <td>25400.000000</td>\n",
       "      <td>...</td>\n",
       "      <td>578820.0</td>\n",
       "      <td>1152480.0</td>\n",
       "      <td>10.0</td>\n",
       "      <td>1.800000</td>\n",
       "      <td>0.918937</td>\n",
       "      <td>1.0</td>\n",
       "      <td>1.0</td>\n",
       "      <td>2.0</td>\n",
       "      <td>2.0</td>\n",
       "      <td>4.0</td>\n",
       "    </tr>\n",
       "    <tr>\n",
       "      <th>Under-Graduate</th>\n",
       "      <td>10.0</td>\n",
       "      <td>29350.000000</td>\n",
       "      <td>22541.381699</td>\n",
       "      <td>5000.0</td>\n",
       "      <td>19250.0</td>\n",
       "      <td>22500.0</td>\n",
       "      <td>36875.0</td>\n",
       "      <td>85000.0</td>\n",
       "      <td>10.0</td>\n",
       "      <td>12650.000000</td>\n",
       "      <td>...</td>\n",
       "      <td>397440.0</td>\n",
       "      <td>1142400.0</td>\n",
       "      <td>10.0</td>\n",
       "      <td>1.500000</td>\n",
       "      <td>0.707107</td>\n",
       "      <td>1.0</td>\n",
       "      <td>1.0</td>\n",
       "      <td>1.0</td>\n",
       "      <td>2.0</td>\n",
       "      <td>3.0</td>\n",
       "    </tr>\n",
       "  </tbody>\n",
       "</table>\n",
       "<p>5 rows × 48 columns</p>\n",
       "</div>\n",
       "      <button class=\"colab-df-convert\" onclick=\"convertToInteractive('df-99f08857-56ab-46c3-8a52-ee2bf7ab4c92')\"\n",
       "              title=\"Convert this dataframe to an interactive table.\"\n",
       "              style=\"display:none;\">\n",
       "        \n",
       "  <svg xmlns=\"http://www.w3.org/2000/svg\" height=\"24px\"viewBox=\"0 0 24 24\"\n",
       "       width=\"24px\">\n",
       "    <path d=\"M0 0h24v24H0V0z\" fill=\"none\"/>\n",
       "    <path d=\"M18.56 5.44l.94 2.06.94-2.06 2.06-.94-2.06-.94-.94-2.06-.94 2.06-2.06.94zm-11 1L8.5 8.5l.94-2.06 2.06-.94-2.06-.94L8.5 2.5l-.94 2.06-2.06.94zm10 10l.94 2.06.94-2.06 2.06-.94-2.06-.94-.94-2.06-.94 2.06-2.06.94z\"/><path d=\"M17.41 7.96l-1.37-1.37c-.4-.4-.92-.59-1.43-.59-.52 0-1.04.2-1.43.59L10.3 9.45l-7.72 7.72c-.78.78-.78 2.05 0 2.83L4 21.41c.39.39.9.59 1.41.59.51 0 1.02-.2 1.41-.59l7.78-7.78 2.81-2.81c.8-.78.8-2.07 0-2.86zM5.41 20L4 18.59l7.72-7.72 1.47 1.35L5.41 20z\"/>\n",
       "  </svg>\n",
       "      </button>\n",
       "      \n",
       "  <style>\n",
       "    .colab-df-container {\n",
       "      display:flex;\n",
       "      flex-wrap:wrap;\n",
       "      gap: 12px;\n",
       "    }\n",
       "\n",
       "    .colab-df-convert {\n",
       "      background-color: #E8F0FE;\n",
       "      border: none;\n",
       "      border-radius: 50%;\n",
       "      cursor: pointer;\n",
       "      display: none;\n",
       "      fill: #1967D2;\n",
       "      height: 32px;\n",
       "      padding: 0 0 0 0;\n",
       "      width: 32px;\n",
       "    }\n",
       "\n",
       "    .colab-df-convert:hover {\n",
       "      background-color: #E2EBFA;\n",
       "      box-shadow: 0px 1px 2px rgba(60, 64, 67, 0.3), 0px 1px 3px 1px rgba(60, 64, 67, 0.15);\n",
       "      fill: #174EA6;\n",
       "    }\n",
       "\n",
       "    [theme=dark] .colab-df-convert {\n",
       "      background-color: #3B4455;\n",
       "      fill: #D2E3FC;\n",
       "    }\n",
       "\n",
       "    [theme=dark] .colab-df-convert:hover {\n",
       "      background-color: #434B5C;\n",
       "      box-shadow: 0px 1px 3px 1px rgba(0, 0, 0, 0.15);\n",
       "      filter: drop-shadow(0px 1px 2px rgba(0, 0, 0, 0.3));\n",
       "      fill: #FFFFFF;\n",
       "    }\n",
       "  </style>\n",
       "\n",
       "      <script>\n",
       "        const buttonEl =\n",
       "          document.querySelector('#df-99f08857-56ab-46c3-8a52-ee2bf7ab4c92 button.colab-df-convert');\n",
       "        buttonEl.style.display =\n",
       "          google.colab.kernel.accessAllowed ? 'block' : 'none';\n",
       "\n",
       "        async function convertToInteractive(key) {\n",
       "          const element = document.querySelector('#df-99f08857-56ab-46c3-8a52-ee2bf7ab4c92');\n",
       "          const dataTable =\n",
       "            await google.colab.kernel.invokeFunction('convertToInteractive',\n",
       "                                                     [key], {});\n",
       "          if (!dataTable) return;\n",
       "\n",
       "          const docLinkHtml = 'Like what you see? Visit the ' +\n",
       "            '<a target=\"_blank\" href=https://colab.research.google.com/notebooks/data_table.ipynb>data table notebook</a>'\n",
       "            + ' to learn more about interactive tables.';\n",
       "          element.innerHTML = '';\n",
       "          dataTable['output_type'] = 'display_data';\n",
       "          await google.colab.output.renderOutput(dataTable, element);\n",
       "          const docLink = document.createElement('div');\n",
       "          docLink.innerHTML = docLinkHtml;\n",
       "          element.appendChild(docLink);\n",
       "        }\n",
       "      </script>\n",
       "    </div>\n",
       "  </div>\n",
       "  "
      ],
      "text/plain": [
       "                         Mthly_HH_Income                                       \\\n",
       "                                   count          mean           std      min   \n",
       "Highest_Qualified_Member                                                        \n",
       "Graduate                            19.0  40921.052632  23460.524266  12500.0   \n",
       "Illiterate                           5.0  25280.000000  23436.979328   6000.0   \n",
       "Post-Graduate                        6.0  59166.666667  31530.408603  15000.0   \n",
       "Professional                        10.0  52550.000000  25460.699563  32000.0   \n",
       "Under-Graduate                      10.0  29350.000000  22541.381699   5000.0   \n",
       "\n",
       "                                                               \\\n",
       "                              25%      50%      75%       max   \n",
       "Highest_Qualified_Member                                        \n",
       "Graduate                  24500.0  35000.0  50500.0  100000.0   \n",
       "Illiterate                10000.0  22000.0  23400.0   65000.0   \n",
       "Post-Graduate             45000.0  52500.0  82500.0  100000.0   \n",
       "Professional              34250.0  46000.0  50375.0  100000.0   \n",
       "Under-Graduate            19250.0  22500.0  36875.0   85000.0   \n",
       "\n",
       "                         Mthly_HH_Expense                ... Annual_HH_Income  \\\n",
       "                                    count          mean  ...              75%   \n",
       "Highest_Qualified_Member                                 ...                    \n",
       "Graduate                             19.0  18705.263158  ...         598380.0   \n",
       "Illiterate                            5.0  11800.000000  ...         292032.0   \n",
       "Post-Graduate                         6.0  24333.333333  ...         816750.0   \n",
       "Professional                         10.0  25400.000000  ...         578820.0   \n",
       "Under-Graduate                       10.0  12650.000000  ...         397440.0   \n",
       "\n",
       "                                    No_of_Earning_Members                      \\\n",
       "                                max                 count      mean       std   \n",
       "Highest_Qualified_Member                                                        \n",
       "Graduate                  1404000.0                  19.0  1.368421  0.683986   \n",
       "Illiterate                 647400.0                   5.0  1.200000  0.447214   \n",
       "Post-Graduate             1320000.0                   6.0  1.333333  0.816497   \n",
       "Professional              1152480.0                  10.0  1.800000  0.918937   \n",
       "Under-Graduate            1142400.0                  10.0  1.500000  0.707107   \n",
       "\n",
       "                                                   \n",
       "                          min  25%  50%  75%  max  \n",
       "Highest_Qualified_Member                           \n",
       "Graduate                  1.0  1.0  1.0  1.5  3.0  \n",
       "Illiterate                1.0  1.0  1.0  1.0  2.0  \n",
       "Post-Graduate             1.0  1.0  1.0  1.0  3.0  \n",
       "Professional              1.0  1.0  2.0  2.0  4.0  \n",
       "Under-Graduate            1.0  1.0  1.0  2.0  3.0  \n",
       "\n",
       "[5 rows x 48 columns]"
      ]
     },
     "metadata": {},
     "output_type": "display_data"
    }
   ],
   "source": [
    "# Menampilkan dataframe nilai statistik field data numerik lain berdasarkan kelompok Highest_Qualified_Member\n",
    "data_grup = data.groupby(\"Highest_Qualified_Member\").describe()\n",
    "display(data_grup)"
   ]
  },
  {
   "cell_type": "code",
   "execution_count": null,
   "id": "WuuysfjpgEks",
   "metadata": {
    "colab": {
     "base_uri": "https://localhost:8080/",
     "height": 269
    },
    "executionInfo": {
     "elapsed": 14,
     "status": "ok",
     "timestamp": 1647169413104,
     "user": {
      "displayName": "Yozef Giovanni Tjandra",
      "photoUrl": "https://lh3.googleusercontent.com/a/default-user=s64",
      "userId": "03277432154125538365"
     },
     "user_tz": -420
    },
    "id": "WuuysfjpgEks",
    "outputId": "42b75596-bdea-4d8f-a601-9014d16527a5"
   },
   "outputs": [
    {
     "data": {
      "text/html": [
       "\n",
       "  <div id=\"df-276301cc-c23a-47d3-a017-51446fa01d59\">\n",
       "    <div class=\"colab-df-container\">\n",
       "      <div>\n",
       "<style scoped>\n",
       "    .dataframe tbody tr th:only-of-type {\n",
       "        vertical-align: middle;\n",
       "    }\n",
       "\n",
       "    .dataframe tbody tr th {\n",
       "        vertical-align: top;\n",
       "    }\n",
       "\n",
       "    .dataframe thead tr th {\n",
       "        text-align: left;\n",
       "    }\n",
       "\n",
       "    .dataframe thead tr:last-of-type th {\n",
       "        text-align: right;\n",
       "    }\n",
       "</style>\n",
       "<table border=\"1\" class=\"dataframe\">\n",
       "  <thead>\n",
       "    <tr>\n",
       "      <th></th>\n",
       "      <th colspan=\"8\" halign=\"left\">Mthly_HH_Income</th>\n",
       "    </tr>\n",
       "    <tr>\n",
       "      <th></th>\n",
       "      <th>count</th>\n",
       "      <th>mean</th>\n",
       "      <th>std</th>\n",
       "      <th>min</th>\n",
       "      <th>25%</th>\n",
       "      <th>50%</th>\n",
       "      <th>75%</th>\n",
       "      <th>max</th>\n",
       "    </tr>\n",
       "    <tr>\n",
       "      <th>Highest_Qualified_Member</th>\n",
       "      <th></th>\n",
       "      <th></th>\n",
       "      <th></th>\n",
       "      <th></th>\n",
       "      <th></th>\n",
       "      <th></th>\n",
       "      <th></th>\n",
       "      <th></th>\n",
       "    </tr>\n",
       "  </thead>\n",
       "  <tbody>\n",
       "    <tr>\n",
       "      <th>Graduate</th>\n",
       "      <td>19.0</td>\n",
       "      <td>40921.052632</td>\n",
       "      <td>23460.524266</td>\n",
       "      <td>12500.0</td>\n",
       "      <td>24500.0</td>\n",
       "      <td>35000.0</td>\n",
       "      <td>50500.0</td>\n",
       "      <td>100000.0</td>\n",
       "    </tr>\n",
       "    <tr>\n",
       "      <th>Illiterate</th>\n",
       "      <td>5.0</td>\n",
       "      <td>25280.000000</td>\n",
       "      <td>23436.979328</td>\n",
       "      <td>6000.0</td>\n",
       "      <td>10000.0</td>\n",
       "      <td>22000.0</td>\n",
       "      <td>23400.0</td>\n",
       "      <td>65000.0</td>\n",
       "    </tr>\n",
       "    <tr>\n",
       "      <th>Post-Graduate</th>\n",
       "      <td>6.0</td>\n",
       "      <td>59166.666667</td>\n",
       "      <td>31530.408603</td>\n",
       "      <td>15000.0</td>\n",
       "      <td>45000.0</td>\n",
       "      <td>52500.0</td>\n",
       "      <td>82500.0</td>\n",
       "      <td>100000.0</td>\n",
       "    </tr>\n",
       "    <tr>\n",
       "      <th>Professional</th>\n",
       "      <td>10.0</td>\n",
       "      <td>52550.000000</td>\n",
       "      <td>25460.699563</td>\n",
       "      <td>32000.0</td>\n",
       "      <td>34250.0</td>\n",
       "      <td>46000.0</td>\n",
       "      <td>50375.0</td>\n",
       "      <td>100000.0</td>\n",
       "    </tr>\n",
       "    <tr>\n",
       "      <th>Under-Graduate</th>\n",
       "      <td>10.0</td>\n",
       "      <td>29350.000000</td>\n",
       "      <td>22541.381699</td>\n",
       "      <td>5000.0</td>\n",
       "      <td>19250.0</td>\n",
       "      <td>22500.0</td>\n",
       "      <td>36875.0</td>\n",
       "      <td>85000.0</td>\n",
       "    </tr>\n",
       "  </tbody>\n",
       "</table>\n",
       "</div>\n",
       "      <button class=\"colab-df-convert\" onclick=\"convertToInteractive('df-276301cc-c23a-47d3-a017-51446fa01d59')\"\n",
       "              title=\"Convert this dataframe to an interactive table.\"\n",
       "              style=\"display:none;\">\n",
       "        \n",
       "  <svg xmlns=\"http://www.w3.org/2000/svg\" height=\"24px\"viewBox=\"0 0 24 24\"\n",
       "       width=\"24px\">\n",
       "    <path d=\"M0 0h24v24H0V0z\" fill=\"none\"/>\n",
       "    <path d=\"M18.56 5.44l.94 2.06.94-2.06 2.06-.94-2.06-.94-.94-2.06-.94 2.06-2.06.94zm-11 1L8.5 8.5l.94-2.06 2.06-.94-2.06-.94L8.5 2.5l-.94 2.06-2.06.94zm10 10l.94 2.06.94-2.06 2.06-.94-2.06-.94-.94-2.06-.94 2.06-2.06.94z\"/><path d=\"M17.41 7.96l-1.37-1.37c-.4-.4-.92-.59-1.43-.59-.52 0-1.04.2-1.43.59L10.3 9.45l-7.72 7.72c-.78.78-.78 2.05 0 2.83L4 21.41c.39.39.9.59 1.41.59.51 0 1.02-.2 1.41-.59l7.78-7.78 2.81-2.81c.8-.78.8-2.07 0-2.86zM5.41 20L4 18.59l7.72-7.72 1.47 1.35L5.41 20z\"/>\n",
       "  </svg>\n",
       "      </button>\n",
       "      \n",
       "  <style>\n",
       "    .colab-df-container {\n",
       "      display:flex;\n",
       "      flex-wrap:wrap;\n",
       "      gap: 12px;\n",
       "    }\n",
       "\n",
       "    .colab-df-convert {\n",
       "      background-color: #E8F0FE;\n",
       "      border: none;\n",
       "      border-radius: 50%;\n",
       "      cursor: pointer;\n",
       "      display: none;\n",
       "      fill: #1967D2;\n",
       "      height: 32px;\n",
       "      padding: 0 0 0 0;\n",
       "      width: 32px;\n",
       "    }\n",
       "\n",
       "    .colab-df-convert:hover {\n",
       "      background-color: #E2EBFA;\n",
       "      box-shadow: 0px 1px 2px rgba(60, 64, 67, 0.3), 0px 1px 3px 1px rgba(60, 64, 67, 0.15);\n",
       "      fill: #174EA6;\n",
       "    }\n",
       "\n",
       "    [theme=dark] .colab-df-convert {\n",
       "      background-color: #3B4455;\n",
       "      fill: #D2E3FC;\n",
       "    }\n",
       "\n",
       "    [theme=dark] .colab-df-convert:hover {\n",
       "      background-color: #434B5C;\n",
       "      box-shadow: 0px 1px 3px 1px rgba(0, 0, 0, 0.15);\n",
       "      filter: drop-shadow(0px 1px 2px rgba(0, 0, 0, 0.3));\n",
       "      fill: #FFFFFF;\n",
       "    }\n",
       "  </style>\n",
       "\n",
       "      <script>\n",
       "        const buttonEl =\n",
       "          document.querySelector('#df-276301cc-c23a-47d3-a017-51446fa01d59 button.colab-df-convert');\n",
       "        buttonEl.style.display =\n",
       "          google.colab.kernel.accessAllowed ? 'block' : 'none';\n",
       "\n",
       "        async function convertToInteractive(key) {\n",
       "          const element = document.querySelector('#df-276301cc-c23a-47d3-a017-51446fa01d59');\n",
       "          const dataTable =\n",
       "            await google.colab.kernel.invokeFunction('convertToInteractive',\n",
       "                                                     [key], {});\n",
       "          if (!dataTable) return;\n",
       "\n",
       "          const docLinkHtml = 'Like what you see? Visit the ' +\n",
       "            '<a target=\"_blank\" href=https://colab.research.google.com/notebooks/data_table.ipynb>data table notebook</a>'\n",
       "            + ' to learn more about interactive tables.';\n",
       "          element.innerHTML = '';\n",
       "          dataTable['output_type'] = 'display_data';\n",
       "          await google.colab.output.renderOutput(dataTable, element);\n",
       "          const docLink = document.createElement('div');\n",
       "          docLink.innerHTML = docLinkHtml;\n",
       "          element.appendChild(docLink);\n",
       "        }\n",
       "      </script>\n",
       "    </div>\n",
       "  </div>\n",
       "  "
      ],
      "text/plain": [
       "                         Mthly_HH_Income                                       \\\n",
       "                                   count          mean           std      min   \n",
       "Highest_Qualified_Member                                                        \n",
       "Graduate                            19.0  40921.052632  23460.524266  12500.0   \n",
       "Illiterate                           5.0  25280.000000  23436.979328   6000.0   \n",
       "Post-Graduate                        6.0  59166.666667  31530.408603  15000.0   \n",
       "Professional                        10.0  52550.000000  25460.699563  32000.0   \n",
       "Under-Graduate                      10.0  29350.000000  22541.381699   5000.0   \n",
       "\n",
       "                                                               \n",
       "                              25%      50%      75%       max  \n",
       "Highest_Qualified_Member                                       \n",
       "Graduate                  24500.0  35000.0  50500.0  100000.0  \n",
       "Illiterate                10000.0  22000.0  23400.0   65000.0  \n",
       "Post-Graduate             45000.0  52500.0  82500.0  100000.0  \n",
       "Professional              34250.0  46000.0  50375.0  100000.0  \n",
       "Under-Graduate            19250.0  22500.0  36875.0   85000.0  "
      ]
     },
     "metadata": {},
     "output_type": "display_data"
    }
   ],
   "source": [
    "# Menampilkan data_grup untuk fitur \"Mthly_HH_Income\" saja\n",
    "\n",
    "display(data_grup[[\"Mthly_HH_Income\"]])"
   ]
  },
  {
   "cell_type": "code",
   "execution_count": null,
   "id": "6iLdLMvxYM8j",
   "metadata": {
    "colab": {
     "base_uri": "https://localhost:8080/",
     "height": 757
    },
    "executionInfo": {
     "elapsed": 14,
     "status": "ok",
     "timestamp": 1647169413105,
     "user": {
      "displayName": "Yozef Giovanni Tjandra",
      "photoUrl": "https://lh3.googleusercontent.com/a/default-user=s64",
      "userId": "03277432154125538365"
     },
     "user_tz": -420
    },
    "id": "6iLdLMvxYM8j",
    "outputId": "a9321c9f-27af-4e54-a4df-e5c5176d8e2d"
   },
   "outputs": [
    {
     "data": {
      "text/html": [
       "\n",
       "  <div id=\"df-9d390f03-c5a3-412e-8413-68d1a3753fb2\">\n",
       "    <div class=\"colab-df-container\">\n",
       "      <div>\n",
       "<style scoped>\n",
       "    .dataframe tbody tr th:only-of-type {\n",
       "        vertical-align: middle;\n",
       "    }\n",
       "\n",
       "    .dataframe tbody tr th {\n",
       "        vertical-align: top;\n",
       "    }\n",
       "\n",
       "    .dataframe thead th {\n",
       "        text-align: right;\n",
       "    }\n",
       "</style>\n",
       "<table border=\"1\" class=\"dataframe\">\n",
       "  <thead>\n",
       "    <tr style=\"text-align: right;\">\n",
       "      <th></th>\n",
       "      <th>Mthly_HH_Income</th>\n",
       "      <th>Mthly_HH_Expense</th>\n",
       "      <th>No_of_Fly_Members</th>\n",
       "      <th>Emi_or_Rent_Amt</th>\n",
       "      <th>Annual_HH_Income</th>\n",
       "      <th>No_of_Earning_Members</th>\n",
       "    </tr>\n",
       "    <tr>\n",
       "      <th>Highest_Qualified_Member</th>\n",
       "      <th></th>\n",
       "      <th></th>\n",
       "      <th></th>\n",
       "      <th></th>\n",
       "      <th></th>\n",
       "      <th></th>\n",
       "    </tr>\n",
       "  </thead>\n",
       "  <tbody>\n",
       "    <tr>\n",
       "      <th>Graduate</th>\n",
       "      <td>40921.052632</td>\n",
       "      <td>18705.263158</td>\n",
       "      <td>4.052632</td>\n",
       "      <td>2210.526316</td>\n",
       "      <td>499042.105263</td>\n",
       "      <td>1.368421</td>\n",
       "    </tr>\n",
       "    <tr>\n",
       "      <th>Illiterate</th>\n",
       "      <td>25280.000000</td>\n",
       "      <td>11800.000000</td>\n",
       "      <td>3.200000</td>\n",
       "      <td>4000.000000</td>\n",
       "      <td>279278.400000</td>\n",
       "      <td>1.200000</td>\n",
       "    </tr>\n",
       "    <tr>\n",
       "      <th>Post-Graduate</th>\n",
       "      <td>59166.666667</td>\n",
       "      <td>24333.333333</td>\n",
       "      <td>4.166667</td>\n",
       "      <td>8083.333333</td>\n",
       "      <td>668500.000000</td>\n",
       "      <td>1.333333</td>\n",
       "    </tr>\n",
       "    <tr>\n",
       "      <th>Professional</th>\n",
       "      <td>52550.000000</td>\n",
       "      <td>25400.000000</td>\n",
       "      <td>4.600000</td>\n",
       "      <td>2750.000000</td>\n",
       "      <td>599520.000000</td>\n",
       "      <td>1.800000</td>\n",
       "    </tr>\n",
       "    <tr>\n",
       "      <th>Under-Graduate</th>\n",
       "      <td>29350.000000</td>\n",
       "      <td>12650.000000</td>\n",
       "      <td>3.900000</td>\n",
       "      <td>1500.000000</td>\n",
       "      <td>361656.000000</td>\n",
       "      <td>1.500000</td>\n",
       "    </tr>\n",
       "  </tbody>\n",
       "</table>\n",
       "</div>\n",
       "      <button class=\"colab-df-convert\" onclick=\"convertToInteractive('df-9d390f03-c5a3-412e-8413-68d1a3753fb2')\"\n",
       "              title=\"Convert this dataframe to an interactive table.\"\n",
       "              style=\"display:none;\">\n",
       "        \n",
       "  <svg xmlns=\"http://www.w3.org/2000/svg\" height=\"24px\"viewBox=\"0 0 24 24\"\n",
       "       width=\"24px\">\n",
       "    <path d=\"M0 0h24v24H0V0z\" fill=\"none\"/>\n",
       "    <path d=\"M18.56 5.44l.94 2.06.94-2.06 2.06-.94-2.06-.94-.94-2.06-.94 2.06-2.06.94zm-11 1L8.5 8.5l.94-2.06 2.06-.94-2.06-.94L8.5 2.5l-.94 2.06-2.06.94zm10 10l.94 2.06.94-2.06 2.06-.94-2.06-.94-.94-2.06-.94 2.06-2.06.94z\"/><path d=\"M17.41 7.96l-1.37-1.37c-.4-.4-.92-.59-1.43-.59-.52 0-1.04.2-1.43.59L10.3 9.45l-7.72 7.72c-.78.78-.78 2.05 0 2.83L4 21.41c.39.39.9.59 1.41.59.51 0 1.02-.2 1.41-.59l7.78-7.78 2.81-2.81c.8-.78.8-2.07 0-2.86zM5.41 20L4 18.59l7.72-7.72 1.47 1.35L5.41 20z\"/>\n",
       "  </svg>\n",
       "      </button>\n",
       "      \n",
       "  <style>\n",
       "    .colab-df-container {\n",
       "      display:flex;\n",
       "      flex-wrap:wrap;\n",
       "      gap: 12px;\n",
       "    }\n",
       "\n",
       "    .colab-df-convert {\n",
       "      background-color: #E8F0FE;\n",
       "      border: none;\n",
       "      border-radius: 50%;\n",
       "      cursor: pointer;\n",
       "      display: none;\n",
       "      fill: #1967D2;\n",
       "      height: 32px;\n",
       "      padding: 0 0 0 0;\n",
       "      width: 32px;\n",
       "    }\n",
       "\n",
       "    .colab-df-convert:hover {\n",
       "      background-color: #E2EBFA;\n",
       "      box-shadow: 0px 1px 2px rgba(60, 64, 67, 0.3), 0px 1px 3px 1px rgba(60, 64, 67, 0.15);\n",
       "      fill: #174EA6;\n",
       "    }\n",
       "\n",
       "    [theme=dark] .colab-df-convert {\n",
       "      background-color: #3B4455;\n",
       "      fill: #D2E3FC;\n",
       "    }\n",
       "\n",
       "    [theme=dark] .colab-df-convert:hover {\n",
       "      background-color: #434B5C;\n",
       "      box-shadow: 0px 1px 3px 1px rgba(0, 0, 0, 0.15);\n",
       "      filter: drop-shadow(0px 1px 2px rgba(0, 0, 0, 0.3));\n",
       "      fill: #FFFFFF;\n",
       "    }\n",
       "  </style>\n",
       "\n",
       "      <script>\n",
       "        const buttonEl =\n",
       "          document.querySelector('#df-9d390f03-c5a3-412e-8413-68d1a3753fb2 button.colab-df-convert');\n",
       "        buttonEl.style.display =\n",
       "          google.colab.kernel.accessAllowed ? 'block' : 'none';\n",
       "\n",
       "        async function convertToInteractive(key) {\n",
       "          const element = document.querySelector('#df-9d390f03-c5a3-412e-8413-68d1a3753fb2');\n",
       "          const dataTable =\n",
       "            await google.colab.kernel.invokeFunction('convertToInteractive',\n",
       "                                                     [key], {});\n",
       "          if (!dataTable) return;\n",
       "\n",
       "          const docLinkHtml = 'Like what you see? Visit the ' +\n",
       "            '<a target=\"_blank\" href=https://colab.research.google.com/notebooks/data_table.ipynb>data table notebook</a>'\n",
       "            + ' to learn more about interactive tables.';\n",
       "          element.innerHTML = '';\n",
       "          dataTable['output_type'] = 'display_data';\n",
       "          await google.colab.output.renderOutput(dataTable, element);\n",
       "          const docLink = document.createElement('div');\n",
       "          docLink.innerHTML = docLinkHtml;\n",
       "          element.appendChild(docLink);\n",
       "        }\n",
       "      </script>\n",
       "    </div>\n",
       "  </div>\n",
       "  "
      ],
      "text/plain": [
       "                          Mthly_HH_Income  Mthly_HH_Expense  \\\n",
       "Highest_Qualified_Member                                      \n",
       "Graduate                     40921.052632      18705.263158   \n",
       "Illiterate                   25280.000000      11800.000000   \n",
       "Post-Graduate                59166.666667      24333.333333   \n",
       "Professional                 52550.000000      25400.000000   \n",
       "Under-Graduate               29350.000000      12650.000000   \n",
       "\n",
       "                          No_of_Fly_Members  Emi_or_Rent_Amt  \\\n",
       "Highest_Qualified_Member                                       \n",
       "Graduate                           4.052632      2210.526316   \n",
       "Illiterate                         3.200000      4000.000000   \n",
       "Post-Graduate                      4.166667      8083.333333   \n",
       "Professional                       4.600000      2750.000000   \n",
       "Under-Graduate                     3.900000      1500.000000   \n",
       "\n",
       "                          Annual_HH_Income  No_of_Earning_Members  \n",
       "Highest_Qualified_Member                                           \n",
       "Graduate                     499042.105263               1.368421  \n",
       "Illiterate                   279278.400000               1.200000  \n",
       "Post-Graduate                668500.000000               1.333333  \n",
       "Professional                 599520.000000               1.800000  \n",
       "Under-Graduate               361656.000000               1.500000  "
      ]
     },
     "metadata": {},
     "output_type": "display_data"
    },
    {
     "data": {
      "image/png": "[encoded data removed]",
      "text/plain": [
       "<Figure size 576x432 with 1 Axes>"
      ]
     },
     "metadata": {},
     "output_type": "display_data"
    }
   ],
   "source": [
    "# Membuat diagram batang untuk memvisualkan data rata-rata nilai \"Mthly_HH_Income\" per kelompok \"Highest_Qualified_Member\"\n",
    "from matplotlib import pyplot as plt\n",
    "\n",
    "# menghitung rata-rata semua field data numerik berdasarkan kelompok \"Highest_Qualified_Member\"\n",
    "vis = data.groupby(\"Highest_Qualified_Member\").mean()\n",
    "\n",
    "# menggambar diagram batang untuk field \"\"\n",
    "display(vis)\n",
    "vis[[\"Mthly_HH_Income\"]].plot(kind=\"bar\")\n",
    "\n",
    "plt.show()"
   ]
  },
  {
   "cell_type": "code",
   "execution_count": null,
   "id": "i1hrspcHuDl8",
   "metadata": {
    "colab": {
     "base_uri": "https://localhost:8080/",
     "height": 1000
    },
    "executionInfo": {
     "elapsed": 1786,
     "status": "ok",
     "timestamp": 1647169414879,
     "user": {
      "displayName": "Yozef Giovanni Tjandra",
      "photoUrl": "https://lh3.googleusercontent.com/a/default-user=s64",
      "userId": "03277432154125538365"
     },
     "user_tz": -420
    },
    "id": "i1hrspcHuDl8",
    "outputId": "6783e392-37f1-4587-9b51-857c8df9787a"
   },
   "outputs": [
    {
     "data": {
      "image/png": "[encoded data removed]",
      "text/plain": [
       "<Figure size 1080x1584 with 6 Axes>"
      ]
     },
     "metadata": {},
     "output_type": "display_data"
    }
   ],
   "source": [
    "# Membuat histogram nilai \"Mthly_HH_Income\" per kelompok \"Highest_Qualified_Member\"\n",
    "\n",
    "data[\"Mthly_HH_Income\"].hist(by = data[\"Highest_Qualified_Member\"], figsize = (15,22) )\n",
    "plt.show()"
   ]
  },
  {
   "cell_type": "code",
   "execution_count": null,
   "id": "DKK9kiQQwpbm",
   "metadata": {
    "colab": {
     "base_uri": "https://localhost:8080/",
     "height": 394
    },
    "executionInfo": {
     "elapsed": 763,
     "status": "ok",
     "timestamp": 1647169415635,
     "user": {
      "displayName": "Yozef Giovanni Tjandra",
      "photoUrl": "https://lh3.googleusercontent.com/a/default-user=s64",
      "userId": "03277432154125538365"
     },
     "user_tz": -420
    },
    "id": "DKK9kiQQwpbm",
    "outputId": "44171b34-a52d-484d-c264-e420a317a37a"
   },
   "outputs": [
    {
     "data": {
      "image/png": "[encoded data removed]",
      "text/plain": [
       "<Figure size 576x432 with 1 Axes>"
      ]
     },
     "metadata": {},
     "output_type": "display_data"
    }
   ],
   "source": [
    "# Membuat boxplot nilai \"Mthly_HH_Income\" per kelompok \"Highest_Qualified_Member\"\n",
    "\n",
    "sns.set(rc={\"figure.figsize\":(8, 6)}) #width=8, height=6\n",
    "sns.boxplot(data=data, x=\"Highest_Qualified_Member\", y=\"Mthly_HH_Income\")\n",
    "plt.show()"
   ]
  },
  {
   "cell_type": "markdown",
   "id": "b30OIzph35ke",
   "metadata": {
    "id": "b30OIzph35ke"
   },
   "source": [
    "### Highlights:\n",
    "* Ketika dipecah ke dalam kelompok Gelar Akademik, maka sebaran besarnya penghasilan bulanan menjadi bervariasi dengan rataan tertinggi berada pada kelompok Posgraduate dan rataan terendah pada kelompok Illiterate.\n",
    "* Data dengan perilaku paling seragam di antara kelompok tersebut terdapat pada kelompok Under-Graduate sementara data yang paling bervariasi adalah kelompok Postgraduate.\n",
    "* Keseluruhan data penghasilan pada kelompok Illiterate cenderung memiliki nilai rendah, namun terdapat beberapa pencilan data yang ekstrim tinggi.\n",
    "* Walaupun secara memiliki median dan rata-rata yang cenderung mirip Illiterate, mayoritas data kelompok Under-Graduate sebenarnya memiliki rentang nilai yang lebih di atas kelompok Illiterate. Kelompok Under-Graduate juga memiliki nilai pencilan atas yang jauh lebih tinggi dibanding pencilan data Illiterate.\n",
    "* Walaupun nilai penghasilan terbesar sama-sama diraih oleh perwakilan kelompok Graduate, Post-Graduate, dan Professional, secara keseluruhan, rentang mayoritas data yang terendah di antaranya masih berada pada kelompok Graduate.\n",
    "* Walaupun memiliki rata-rata penghasilan tertinggi, kelompok Post-Graduate sebetulnya memiliki sebaran nilai penghasilan yang cukup ekstrem. Artinya, walaupun terdapat subkelompok yang berpenghasilan tinggi, terdapat subkelompok lainnya yang memiliki penghasilan cukup di bawah yang dapat mengimbangi penghasilan tinggi tersebut.\n",
    "* Kelompok Professional juga cenderung memiliki dua buah klaster, di mana satu klaster yang lebih kecil mewakili nilai penghasilan yang ekstrem tinggi dan klaster lainnya mewakili nilai penghasilan yang berada di taraf menengah."
   ]
  },
  {
   "cell_type": "markdown",
   "id": "is_DYkKH8Ujv",
   "metadata": {
    "id": "is_DYkKH8Ujv"
   },
   "source": [
    "## Latihan 3\n",
    "* Deskripsikan kaitan antara variabel ```\"Mthly_HH_Expense\"``` dengan ```\"No_of_Fly_Members\"```.\n",
    "* Tuliskan poin-poin highlights yang relevan untuk mendeskripsikan data tersebut."
   ]
  },
  {
   "cell_type": "code",
   "execution_count": null,
   "id": "1CjmtwYU8l0J",
   "metadata": {
    "id": "1CjmtwYU8l0J"
   },
   "outputs": [],
   "source": []
  }
 ],
 "metadata": {
  "colab": {
   "name": "MATH1042 Modul 5 Statistika Deskriptif.ipynb",
   "provenance": [],
   "toc_visible": true
  },
  "kernelspec": {
   "display_name": "Python 3 (ipykernel)",
   "language": "python",
   "name": "python3"
  },
  "language_info": {
   "codemirror_mode": {
    "name": "ipython",
    "version": 3
   },
   "file_extension": ".py",
   "mimetype": "text/x-python",
   "name": "python",
   "nbconvert_exporter": "python",
   "pygments_lexer": "ipython3",
   "version": "3.8.5"
  }
 },
 "nbformat": 4,
 "nbformat_minor": 5
}
